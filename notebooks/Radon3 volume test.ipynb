{
 "cells": [
  {
   "cell_type": "code",
   "execution_count": 1,
   "id": "f4e47de7-98b8-43bd-919b-79f01b7c308e",
   "metadata": {
    "tags": []
   },
   "outputs": [],
   "source": [
    "%matplotlib widget"
   ]
  },
  {
   "cell_type": "code",
   "execution_count": 2,
   "id": "7d7215ce-17d1-4193-9c6d-17b56b9d7c0a",
   "metadata": {
    "tags": []
   },
   "outputs": [],
   "source": [
    "import numpy as np\n",
    "\n",
    "from pyinverse.axes import RegularAxes3\n",
    "from pyinverse.grid import RegularGrid\n",
    "from pyinverse.radon3 import beam2actor, regular_axes2polytope, theta_grid2half_planes\n",
    "from pyinverse.volume import volume_cal\n",
    "\n",
    "from pyviz3d.viz import Renderer"
   ]
  },
  {
   "cell_type": "code",
   "execution_count": 3,
   "id": "9de8026b-013b-45c6-9349-104cac8e150b",
   "metadata": {
    "tags": []
   },
   "outputs": [],
   "source": [
    "N1 = 5\n",
    "N2 = 8\n",
    "N3 = 6\n",
    "\n",
    "axes3 = RegularAxes3.linspace((-1, 1, N1), (-1, 1, N2), (-1, 1, N3))\n",
    "\n",
    "Nu = 5\n",
    "Nv = 6\n",
    "\n",
    "grid_uv = RegularGrid.linspace((-1, 1, Nu), (-1, 1, Nv))"
   ]
  },
  {
   "cell_type": "code",
   "execution_count": 4,
   "id": "70c0bf3b-3348-4059-871b-8ce0f861f9db",
   "metadata": {
    "tags": []
   },
   "outputs": [],
   "source": [
    "ijk = (2, 3, 4)\n",
    "\n",
    "theta = np.pi/8\n",
    "phi = np.pi/3\n",
    "mn1 = (1, 3)\n",
    "mn2 = (2, 3)\n",
    "\n",
    "e_min_max = (-np.sqrt(2), np.sqrt(2))"
   ]
  },
  {
   "cell_type": "code",
   "execution_count": 5,
   "id": "ac509fcc-f1fa-4fbf-9923-0ce03ae58160",
   "metadata": {
    "tags": []
   },
   "outputs": [],
   "source": [
    "A_ijk, b_ijk = regular_axes2polytope(axes3, ijk)\n",
    "A_mn1, b_mn1 = theta_grid2half_planes(theta, phi, grid_uv, mn1)\n",
    "A_mn2, b_mn2 = theta_grid2half_planes(theta, phi, grid_uv, mn2)\n",
    "\n",
    "A_lass1 = np.vstack((A_ijk, A_mn1))\n",
    "b_lass1 = np.hstack((b_ijk, b_mn1))\n",
    "\n",
    "A_lass2 = np.vstack((A_ijk, A_mn2))\n",
    "b_lass2 = np.hstack((b_ijk, b_mn2))"
   ]
  },
  {
   "cell_type": "code",
   "execution_count": 6,
   "id": "51752ae5-ad9e-4524-bd0c-040e916e7cf6",
   "metadata": {
    "tags": []
   },
   "outputs": [
    {
     "name": "stdout",
     "output_type": "stream",
     "text": [
      "0.0\n",
      "0.1762885152509513\n"
     ]
    }
   ],
   "source": [
    "print(volume_cal(10, 3, A_lass1, b_lass1) / (grid_uv.axis_x.T * grid_uv.axis_y.T))\n",
    "print(volume_cal(10, 3, A_lass2, b_lass2) / (grid_uv.axis_x.T * grid_uv.axis_y.T))"
   ]
  },
  {
   "cell_type": "code",
   "execution_count": 7,
   "id": "c304f3d3-0c2b-496c-acf0-db3a5ebc8c1c",
   "metadata": {
    "tags": []
   },
   "outputs": [],
   "source": [
    "voxel_actor = axes3.voxel_actor(ijk)\n",
    "beam_actor1 = beam2actor(grid_uv, mn1, e_min_max, theta, phi)\n",
    "beam_actor2 = beam2actor(grid_uv, mn2, e_min_max, theta, phi, color='red')"
   ]
  },
  {
   "cell_type": "code",
   "execution_count": 8,
   "id": "036e0cf9-56c2-471a-bc03-411b003d023f",
   "metadata": {
    "tags": []
   },
   "outputs": [],
   "source": [
    "ren = Renderer()\n",
    "ren.add_actor(voxel_actor)\n",
    "ren.add_actor(beam_actor1)\n",
    "ren.add_actor(beam_actor2)\n",
    "ren.axes_on((-1, 1, -1, 1, -1, 1))\n",
    "ren.reset_camera()\n",
    "ren.start()"
   ]
  }
 ],
 "metadata": {
  "kernelspec": {
   "display_name": "Python 3 (ipykernel)",
   "language": "python",
   "name": "python3"
  },
  "language_info": {
   "codemirror_mode": {
    "name": "ipython",
    "version": 3
   },
   "file_extension": ".py",
   "mimetype": "text/x-python",
   "name": "python",
   "nbconvert_exporter": "python",
   "pygments_lexer": "ipython3",
   "version": "3.11.3"
  }
 },
 "nbformat": 4,
 "nbformat_minor": 5
}
