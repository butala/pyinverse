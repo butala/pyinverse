{
 "cells": [
  {
   "cell_type": "code",
   "execution_count": 1,
   "metadata": {},
   "outputs": [],
   "source": [
    "%matplotlib widget"
   ]
  },
  {
   "cell_type": "code",
   "execution_count": 2,
   "metadata": {},
   "outputs": [],
   "source": [
    "import numpy as np\n",
    "import matplotlib.pyplot as plt\n",
    "\n",
    "from pyinverse.grid import RegularAxis\n",
    "from pyinverse.grid import RegularGrid\n",
    "from pyinverse.ellipse import Ellipse\n",
    "from pyinverse.phantom import Phantom"
   ]
  },
  {
   "cell_type": "code",
   "execution_count": 3,
   "metadata": {},
   "outputs": [],
   "source": [
    "#e1 = Ellipse(0.2, 0.5, 0.25, 0, 0, 45)\n",
    "#e1 = Ellipse(0.2, 0.1, 0.5, 0, 0.5, -45)\n",
    "#e1 = Ellipse(-.2, .1100, .3100,  .22,    0,    -18)\n",
    "#e1 = Ellipse(-.02, .1100, .3100,  .22,    0,    -18)\n",
    "#e1 = Ellipse(1, 0.69/2, 0.92/2, 0.25, 0.15, 25)\n",
    "#e1 = Ellipse(1, 0.69, 0.92, 0, 0, 0)\n",
    "#e2 = Ellipse(-0.8, 0.6624, 0.8740, 0, -0.0184, 0)\n",
    "#e10 = Ellipse(0.1, 0.0230, 0.0460, 0.06, -0.605, 0)"
   ]
  },
  {
   "cell_type": "code",
   "execution_count": 4,
   "metadata": {},
   "outputs": [],
   "source": [
    "p = Phantom()\n",
    "ellipse = p._ellipses[2]"
   ]
  },
  {
   "cell_type": "code",
   "execution_count": 5,
   "metadata": {},
   "outputs": [
    {
     "data": {
      "text/plain": [
       "(0.07815048031011096,\n",
       " -0.2967805818508816,\n",
       " 0.36184951968988904,\n",
       " 0.2967805818508816)"
      ]
     },
     "execution_count": 5,
     "metadata": {},
     "output_type": "execute_result"
    }
   ],
   "source": [
    "ellipse.bounds"
   ]
  },
  {
   "cell_type": "code",
   "execution_count": 6,
   "metadata": {},
   "outputs": [],
   "source": [
    "N1 = N2 = 256\n",
    "#N1 = N2 = 32\n",
    "grid = RegularGrid(RegularAxis.linspace(-1, 1, N1), \n",
    "                   RegularAxis.linspace(-1, 1, N2))"
   ]
  },
  {
   "cell_type": "code",
   "execution_count": 7,
   "metadata": {},
   "outputs": [],
   "source": [
    "X = ellipse.raster(grid, doall=False)"
   ]
  },
  {
   "cell_type": "code",
   "execution_count": 8,
   "metadata": {
    "scrolled": false
   },
   "outputs": [
    {
     "data": {
      "application/vnd.jupyter.widget-view+json": {
       "model_id": "2ae1ff0bd0094c04b7960b48a532dc1e",
       "version_major": 2,
       "version_minor": 0
      },
      "text/plain": [
       "Canvas(toolbar=Toolbar(toolitems=[('Home', 'Reset original view', 'home', 'home'), ('Back', 'Back to previous …"
      ]
     },
     "metadata": {},
     "output_type": "display_data"
    }
   ],
   "source": [
    "fig, ax = plt.subplots()\n",
    "im = grid.imshow(ax, X)\n",
    "ax.set_title('Rasterization of ellipse')\n",
    "fig.colorbar(im);"
   ]
  },
  {
   "cell_type": "code",
   "execution_count": 9,
   "metadata": {},
   "outputs": [
    {
     "data": {
      "application/vnd.jupyter.widget-view+json": {
       "model_id": "daa3c3a7fc954f0b956a84a2aee3c02a",
       "version_major": 2,
       "version_minor": 0
      },
      "text/plain": [
       "Canvas(toolbar=Toolbar(toolitems=[('Home', 'Reset original view', 'home', 'home'), ('Back', 'Back to previous …"
      ]
     },
     "metadata": {},
     "output_type": "display_data"
    }
   ],
   "source": [
    "fig, ax = plt.subplots()\n",
    "im = grid.imshow(ax, ellipse.raster(grid, doall=True) - ellipse.raster(grid, doall=False))\n",
    "ax.set_title('doall=True and doall=False rasterizations')\n",
    "fig.colorbar(im);"
   ]
  },
  {
   "cell_type": "code",
   "execution_count": 10,
   "metadata": {},
   "outputs": [],
   "source": [
    "grid_omega, F_X = grid.spectrum(X, real=True)"
   ]
  },
  {
   "cell_type": "code",
   "execution_count": 11,
   "metadata": {},
   "outputs": [
    {
     "data": {
      "application/vnd.jupyter.widget-view+json": {
       "model_id": "6e17b29668ba41feb250a142f213f32e",
       "version_major": 2,
       "version_minor": 0
      },
      "text/plain": [
       "Canvas(toolbar=Toolbar(toolitems=[('Home', 'Reset original view', 'home', 'home'), ('Back', 'Back to previous …"
      ]
     },
     "metadata": {},
     "output_type": "display_data"
    }
   ],
   "source": [
    "fig, ax = plt.subplots(ncols=2, figsize=(8, 5))\n",
    "im0 = grid_omega.Hz().plot(ax[0], np.log10(np.abs(F_X)))\n",
    "ax[0].set_title('Magnitude')\n",
    "fig.colorbar(im0, ax=ax[0])\n",
    "im1 = grid_omega.Hz().plot(ax[1], np.angle(F_X))\n",
    "ax[1].set_title('Phase')\n",
    "fig.colorbar(im1, ax=ax[1]);\n",
    "fig.suptitle('2D DFT of ellipse rasterization');"
   ]
  },
  {
   "cell_type": "code",
   "execution_count": 12,
   "metadata": {},
   "outputs": [],
   "source": [
    "F_X_theory = ellipse.fourier_transform_grid(grid_omega.Hz())"
   ]
  },
  {
   "cell_type": "code",
   "execution_count": 13,
   "metadata": {},
   "outputs": [
    {
     "data": {
      "application/vnd.jupyter.widget-view+json": {
       "model_id": "c2bb1fc991fc476c85653ee4e8a6b73e",
       "version_major": 2,
       "version_minor": 0
      },
      "text/plain": [
       "Canvas(toolbar=Toolbar(toolitems=[('Home', 'Reset original view', 'home', 'home'), ('Back', 'Back to previous …"
      ]
     },
     "metadata": {},
     "output_type": "display_data"
    }
   ],
   "source": [
    "fig, ax = plt.subplots(ncols=2, figsize=(8, 5))\n",
    "im0 = grid_omega.Hz().plot(ax[0], np.log10(np.abs(F_X_theory)))\n",
    "ax[0].set_title('Magnitude')\n",
    "fig.colorbar(im0, ax=ax[0])\n",
    "im1 = grid_omega.Hz().plot(ax[1], np.angle(F_X_theory))\n",
    "ax[1].set_title('Phase')\n",
    "fig.colorbar(im1, ax=ax[1]);\n",
    "fig.suptitle('2D FT of ellipse');"
   ]
  },
  {
   "cell_type": "code",
   "execution_count": 14,
   "metadata": {},
   "outputs": [],
   "source": [
    "theta0_rad = np.pi/8\n",
    "theta0_deg = np.degrees(theta0_rad)\n",
    "axis_theta = RegularAxis.linspace(theta0_deg, 180, 1)\n",
    "t_max = 1\n",
    "axis_t = RegularAxis.linspace(-t_max, t_max, 2048)\n",
    "grid_y = RegularGrid(axis_theta, axis_t)"
   ]
  },
  {
   "cell_type": "code",
   "execution_count": 15,
   "metadata": {},
   "outputs": [
    {
     "data": {
      "text/plain": [
       "<RegularAxis x0=22.5 T=157.5 N=1>"
      ]
     },
     "execution_count": 15,
     "metadata": {},
     "output_type": "execute_result"
    }
   ],
   "source": [
    "axis_theta"
   ]
  },
  {
   "cell_type": "code",
   "execution_count": 16,
   "metadata": {},
   "outputs": [],
   "source": [
    "p_properties = ellipse.sinogram(grid_y, _direct=False)\n",
    "p_direct = ellipse.sinogram(grid_y, _direct=True)"
   ]
  },
  {
   "cell_type": "code",
   "execution_count": 17,
   "metadata": {},
   "outputs": [
    {
     "data": {
      "application/vnd.jupyter.widget-view+json": {
       "model_id": "151f071ec82b48318d6d8a00363694cc",
       "version_major": 2,
       "version_minor": 0
      },
      "text/plain": [
       "Canvas(toolbar=Toolbar(toolitems=[('Home', 'Reset original view', 'home', 'home'), ('Back', 'Back to previous …"
      ]
     },
     "metadata": {},
     "output_type": "display_data"
    }
   ],
   "source": [
    "fig, ax = plt.subplots()\n",
    "ax.plot(axis_t, p_properties, marker='.', label='Fessler (properties)')\n",
    "ax.plot(axis_t, p_direct, label='Derivation')\n",
    "ax.legend();"
   ]
  },
  {
   "cell_type": "code",
   "execution_count": 18,
   "metadata": {},
   "outputs": [
    {
     "data": {
      "text/plain": [
       "True"
      ]
     },
     "execution_count": 18,
     "metadata": {},
     "output_type": "execute_result"
    }
   ],
   "source": [
    "np.allclose(p_properties, p_direct)"
   ]
  },
  {
   "cell_type": "code",
   "execution_count": 19,
   "metadata": {},
   "outputs": [
    {
     "name": "stdout",
     "output_type": "stream",
     "text": [
      "0.1\n"
     ]
    }
   ],
   "source": [
    "a = 5\n",
    "print(1/(2*a))"
   ]
  },
  {
   "cell_type": "code",
   "execution_count": 20,
   "metadata": {},
   "outputs": [],
   "source": [
    "p_rect = ellipse.sinogram(grid_y, rect=True, a=a)"
   ]
  },
  {
   "cell_type": "code",
   "execution_count": 21,
   "metadata": {},
   "outputs": [
    {
     "data": {
      "application/vnd.jupyter.widget-view+json": {
       "model_id": "6c951fd8a3724ea48dbeaf1a1fda0d3d",
       "version_major": 2,
       "version_minor": 0
      },
      "text/plain": [
       "Canvas(toolbar=Toolbar(toolitems=[('Home', 'Reset original view', 'home', 'home'), ('Back', 'Back to previous …"
      ]
     },
     "metadata": {},
     "output_type": "display_data"
    }
   ],
   "source": [
    "fig, ax = plt.subplots()\n",
    "ax.plot(axis_t, p_properties, marker='.', label='Fessler (properties)')\n",
    "ax.plot(axis_t, p_rect, label='Fessler (properties, rect)')\n",
    "ax.legend();"
   ]
  },
  {
   "cell_type": "code",
   "execution_count": 22,
   "metadata": {},
   "outputs": [],
   "source": [
    "grid_y_omega, F_proj = grid_y.spectrum(p_properties, axis=0, real=True)"
   ]
  },
  {
   "cell_type": "code",
   "execution_count": 23,
   "metadata": {},
   "outputs": [],
   "source": [
    "proj_ft = ellipse.proj_ft(grid_y_omega.Hz(axis=0))"
   ]
  },
  {
   "cell_type": "code",
   "execution_count": 24,
   "metadata": {},
   "outputs": [
    {
     "data": {
      "application/vnd.jupyter.widget-view+json": {
       "model_id": "af09c8e334c74e3fb5922c2679a11743",
       "version_major": 2,
       "version_minor": 0
      },
      "text/plain": [
       "Canvas(toolbar=Toolbar(toolitems=[('Home', 'Reset original view', 'home', 'home'), ('Back', 'Back to previous …"
      ]
     },
     "metadata": {},
     "output_type": "display_data"
    }
   ],
   "source": [
    "fig, ax = plt.subplots(nrows=2, figsize=(7, 10))\n",
    "ax[0].plot(grid_y_omega.Hz(axis=0).axis_y, np.log10(np.abs(proj_ft)), label='Theory')\n",
    "ax[0].plot(grid_y_omega.Hz(axis=0).axis_y, np.log10(np.abs(F_proj)), label='Numerical')\n",
    "ax[0].set_xlabel('(Hz)')\n",
    "ax[0].set_title('Magnitude')\n",
    "ax[0].legend();\n",
    "ax[1].plot(grid_y_omega.Hz(axis=0).axis_y, np.angle(proj_ft), label='Theory')\n",
    "ax[1].plot(grid_y_omega.Hz(axis=0).axis_y, np.angle(F_proj), label='Numerical')\n",
    "ax[1].set_xlabel('(Hz)')\n",
    "ax[1].set_title('Phase')\n",
    "ax[1].legend()\n",
    "fig.suptitle('Line integral form');"
   ]
  },
  {
   "cell_type": "code",
   "execution_count": 25,
   "metadata": {},
   "outputs": [],
   "source": [
    "grid_y_omega, F_proj_rect = grid_y.spectrum(p_rect, axis=0, real=True)"
   ]
  },
  {
   "cell_type": "code",
   "execution_count": 26,
   "metadata": {},
   "outputs": [],
   "source": [
    "proj_rect_ft = ellipse.proj_ft(grid_y_omega.Hz(axis=0), rect=True, a=a)"
   ]
  },
  {
   "cell_type": "code",
   "execution_count": 27,
   "metadata": {},
   "outputs": [
    {
     "data": {
      "application/vnd.jupyter.widget-view+json": {
       "model_id": "1e82c889e30840ad92a2f1e39a557d70",
       "version_major": 2,
       "version_minor": 0
      },
      "text/plain": [
       "Canvas(toolbar=Toolbar(toolitems=[('Home', 'Reset original view', 'home', 'home'), ('Back', 'Back to previous …"
      ]
     },
     "metadata": {},
     "output_type": "display_data"
    }
   ],
   "source": [
    "fig, ax = plt.subplots(nrows=2, figsize=(7, 10))\n",
    "ax[0].plot(grid_y_omega.Hz(axis=0).axis_y, np.log10(np.abs(proj_rect_ft)), label='Theory')\n",
    "ax[0].plot(grid_y_omega.Hz(axis=0).axis_y, np.log10(np.abs(F_proj_rect)), label='Numerical')\n",
    "ax[0].set_xlabel('(Hz)')\n",
    "ax[0].set_title('Magnitude')\n",
    "ax[0].legend();\n",
    "ax[1].plot(grid_y_omega.Hz(axis=0).axis_y, np.angle(proj_rect_ft), label='Theory')\n",
    "ax[1].plot(grid_y_omega.Hz(axis=0).axis_y, np.angle(F_proj_rect), label='Numerical')\n",
    "ax[1].set_xlabel('(Hz)')\n",
    "ax[1].set_title('Phase')\n",
    "ax[1].legend()\n",
    "fig.suptitle('Beam integral form');"
   ]
  }
 ],
 "metadata": {
  "kernelspec": {
   "display_name": "Python 3 (ipykernel)",
   "language": "python",
   "name": "python3"
  },
  "language_info": {
   "codemirror_mode": {
    "name": "ipython",
    "version": 3
   },
   "file_extension": ".py",
   "mimetype": "text/x-python",
   "name": "python",
   "nbconvert_exporter": "python",
   "pygments_lexer": "ipython3",
   "version": "3.9.6"
  }
 },
 "nbformat": 4,
 "nbformat_minor": 4
}
