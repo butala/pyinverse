{
 "cells": [
  {
   "cell_type": "code",
   "execution_count": 1,
   "metadata": {},
   "outputs": [],
   "source": [
    "%matplotlib widget"
   ]
  },
  {
   "cell_type": "code",
   "execution_count": 2,
   "metadata": {},
   "outputs": [],
   "source": [
    "import numpy as np\n",
    "import matplotlib.pyplot as plt\n",
    "\n",
    "from pyinverse.grid import RegularAxis, FFTRegularAxis, RegularGrid\n",
    "from pyinverse.ellipse import Ellipse"
   ]
  },
  {
   "cell_type": "code",
   "execution_count": 3,
   "metadata": {},
   "outputs": [],
   "source": [
    "e1 = Ellipse(-.2, .1100, .3100,  .22,    0,    -18)\n",
    "#e1 = Ellipse(-.02, .1100, .3100,  .22,    0,    -18)\n",
    "#e1 = Ellipse(1, 0.69/2, 0.92/2, 0.25, 0.15, 25)\n",
    "#e1 = Ellipse(1, 0.69, 0.92, 0, 0, 0)\n",
    "#e2 = Ellipse(-0.8, 0.6624, 0.8740, 0, -0.0184, 0)\n",
    "#e10 = Ellipse(0.1, 0.0230, 0.0460, 0.06, -0.605, 0)"
   ]
  },
  {
   "cell_type": "code",
   "execution_count": 4,
   "metadata": {},
   "outputs": [
    {
     "data": {
      "text/plain": [
       "(0.07815048031011096,\n",
       " -0.2967805818508816,\n",
       " 0.36184951968988904,\n",
       " 0.2967805818508816)"
      ]
     },
     "execution_count": 4,
     "metadata": {},
     "output_type": "execute_result"
    }
   ],
   "source": [
    "e1.bounds"
   ]
  },
  {
   "cell_type": "code",
   "execution_count": 5,
   "metadata": {},
   "outputs": [],
   "source": [
    "N1 = N2 = 32\n",
    "grid = RegularGrid(FFTRegularAxis(N1, d=1/2), FFTRegularAxis(N2, d=1/2))"
   ]
  },
  {
   "cell_type": "code",
   "execution_count": 6,
   "metadata": {
    "scrolled": false
   },
   "outputs": [
    {
     "data": {
      "application/vnd.jupyter.widget-view+json": {
       "model_id": "dbcd830890404183891e12d58bc3a492",
       "version_major": 2,
       "version_minor": 0
      },
      "text/plain": [
       "Canvas(toolbar=Toolbar(toolitems=[('Home', 'Reset original view', 'home', 'home'), ('Back', 'Back to previous …"
      ]
     },
     "metadata": {},
     "output_type": "display_data"
    }
   ],
   "source": [
    "fig, ax = plt.subplots()\n",
    "im = grid.imshow(ax, e1.raster(grid, doall=False))\n",
    "fig.colorbar(im);"
   ]
  },
  {
   "cell_type": "code",
   "execution_count": 7,
   "metadata": {},
   "outputs": [
    {
     "data": {
      "application/vnd.jupyter.widget-view+json": {
       "model_id": "43fa3cbf0561491e8a06780ed4dad91d",
       "version_major": 2,
       "version_minor": 0
      },
      "text/plain": [
       "Canvas(toolbar=Toolbar(toolitems=[('Home', 'Reset original view', 'home', 'home'), ('Back', 'Back to previous …"
      ]
     },
     "metadata": {},
     "output_type": "display_data"
    }
   ],
   "source": [
    "fig, ax = plt.subplots()\n",
    "im = grid.imshow(ax, e1.raster(grid, doall=True) - e1.raster(grid, doall=False))\n",
    "fig.colorbar(im);"
   ]
  }
 ],
 "metadata": {
  "kernelspec": {
   "display_name": "Python 3",
   "language": "python",
   "name": "python3"
  },
  "language_info": {
   "codemirror_mode": {
    "name": "ipython",
    "version": 3
   },
   "file_extension": ".py",
   "mimetype": "text/x-python",
   "name": "python",
   "nbconvert_exporter": "python",
   "pygments_lexer": "ipython3",
   "version": "3.8.5"
  }
 },
 "nbformat": 4,
 "nbformat_minor": 4
}
