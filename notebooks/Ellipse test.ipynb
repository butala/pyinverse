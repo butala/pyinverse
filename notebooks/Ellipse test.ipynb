{
 "cells": [
  {
   "cell_type": "code",
   "execution_count": 1,
   "metadata": {},
   "outputs": [],
   "source": [
    "%matplotlib widget"
   ]
  },
  {
   "cell_type": "code",
   "execution_count": 2,
   "metadata": {},
   "outputs": [],
   "source": [
    "import numpy as np\n",
    "import matplotlib.pyplot as plt\n",
    "\n",
    "from pyinverse.grid import RegularAxis\n",
    "from pyinverse.grid import RegularGrid\n",
    "from pyinverse.ellipse import Ellipse\n",
    "from pyinverse.phantom import Phant0m"
   ]
  },
  {
   "cell_type": "code",
   "execution_count": 3,
   "metadata": {},
   "outputs": [],
   "source": [
    "#e1 = Ellipse(0.2, 0.5, 0.25, 0, 0, 45)\n",
    "#e1 = Ellipse(0.2, 0.1, 0.5, 0, 0.5, -45)\n",
    "#e1 = Ellipse(-.2, .1100, .3100,  .22,    0,    -18)\n",
    "#e1 = Ellipse(-.02, .1100, .3100,  .22,    0,    -18)\n",
    "#e1 = Ellipse(1, 0.69/2, 0.92/2, 0.25, 0.15, 25)\n",
    "#e1 = Ellipse(1, 0.69, 0.92, 0, 0, 0)\n",
    "#e2 = Ellipse(-0.8, 0.6624, 0.8740, 0, -0.0184, 0)\n",
    "#e10 = Ellipse(0.1, 0.0230, 0.0460, 0.06, -0.605, 0)"
   ]
  },
  {
   "cell_type": "code",
   "execution_count": 4,
   "metadata": {},
   "outputs": [],
   "source": [
    "p = Phantom()\n",
    "ellipse = p._ellipses[2]"
   ]
  },
  {
   "cell_type": "code",
   "execution_count": 5,
   "metadata": {},
   "outputs": [
    {
     "data": {
      "text/plain": [
       "(0.07815048031011096,\n",
       " -0.2967805818508816,\n",
       " 0.36184951968988904,\n",
       " 0.2967805818508816)"
      ]
     },
     "execution_count": 5,
     "metadata": {},
     "output_type": "execute_result"
    }
   ],
   "source": [
    "ellipse.bounds"
   ]
  },
  {
   "cell_type": "code",
   "execution_count": 6,
   "metadata": {},
   "outputs": [],
   "source": [
    "N1 = N2 = 256\n",
    "#N1 = N2 = 32\n",
    "grid = RegularGrid(RegularAxis.linspace(-1, 1, N1), \n",
    "                   RegularAxis.linspace(-1, 1, N2))"
   ]
  },
  {
   "cell_type": "code",
   "execution_count": 7,
   "metadata": {},
   "outputs": [],
   "source": [
    "X = ellipse.raster(grid, doall=False)"
   ]
  },
  {
   "cell_type": "code",
   "execution_count": 8,
   "metadata": {
    "scrolled": false
   },
   "outputs": [
    {
     "data": {
      "application/vnd.jupyter.widget-view+json": {
       "model_id": "1fa7aaec239548b39874e7087eb34415",
       "version_major": 2,
       "version_minor": 0
      },
      "text/plain": [
       "Canvas(toolbar=Toolbar(toolitems=[('Home', 'Reset original view', 'home', 'home'), ('Back', 'Back to previous …"
      ]
     },
     "metadata": {},
     "output_type": "display_data"
    }
   ],
   "source": [
    "fig, ax = plt.subplots()\n",
    "im = grid.imshow(ax, X)\n",
    "ax.set_title('Rasterization of ellipse')\n",
    "fig.colorbar(im);"
   ]
  },
  {
   "cell_type": "code",
   "execution_count": 9,
   "metadata": {},
   "outputs": [
    {
     "data": {
      "application/vnd.jupyter.widget-view+json": {
       "model_id": "72df6c1ba1cc412ab442778b254d8b3a",
       "version_major": 2,
       "version_minor": 0
      },
      "text/plain": [
       "Canvas(toolbar=Toolbar(toolitems=[('Home', 'Reset original view', 'home', 'home'), ('Back', 'Back to previous …"
      ]
     },
     "metadata": {},
     "output_type": "display_data"
    }
   ],
   "source": [
    "fig, ax = plt.subplots()\n",
    "im = grid.imshow(ax, ellipse.raster(grid, doall=True) - ellipse.raster(grid, doall=False))\n",
    "ax.set_title('doall=True and doall=False rasterizations')\n",
    "fig.colorbar(im);"
   ]
  },
  {
   "cell_type": "code",
   "execution_count": 10,
   "metadata": {},
   "outputs": [],
   "source": [
    "grid_omega, F_X = grid.spectrum(X, real=True)"
   ]
  },
  {
   "cell_type": "code",
   "execution_count": 11,
   "metadata": {},
   "outputs": [
    {
     "data": {
      "application/vnd.jupyter.widget-view+json": {
       "model_id": "85ef2c79cd624a178dfa82b3b21aca76",
       "version_major": 2,
       "version_minor": 0
      },
      "text/plain": [
       "Canvas(toolbar=Toolbar(toolitems=[('Home', 'Reset original view', 'home', 'home'), ('Back', 'Back to previous …"
      ]
     },
     "metadata": {},
     "output_type": "display_data"
    }
   ],
   "source": [
    "fig, ax = plt.subplots(ncols=2, figsize=(8, 5))\n",
    "im0 = grid_omega.plot(ax[0], np.log10(np.abs(F_X)))\n",
    "ax[0].set_title('Magnitude')\n",
    "fig.colorbar(im0, ax=ax[0])\n",
    "im1 = grid_omega.plot(ax[1], np.angle(F_X))\n",
    "ax[1].set_title('Phase')\n",
    "fig.colorbar(im1, ax=ax[1]);\n",
    "fig.suptitle('2D DFT of ellipse rasterization');"
   ]
  },
  {
   "cell_type": "code",
   "execution_count": 12,
   "metadata": {},
   "outputs": [],
   "source": [
    "F_X_theory = ellipse.fourier_transform_grid(grid_omega.Hz())"
   ]
  },
  {
   "cell_type": "code",
   "execution_count": 13,
   "metadata": {},
   "outputs": [
    {
     "data": {
      "application/vnd.jupyter.widget-view+json": {
       "model_id": "cc7b3a34d7b246b6ac603048dfb6d996",
       "version_major": 2,
       "version_minor": 0
      },
      "text/plain": [
       "Canvas(toolbar=Toolbar(toolitems=[('Home', 'Reset original view', 'home', 'home'), ('Back', 'Back to previous …"
      ]
     },
     "metadata": {},
     "output_type": "display_data"
    }
   ],
   "source": [
    "fig, ax = plt.subplots(ncols=2, figsize=(8, 5))\n",
    "im0 = grid_omega.plot(ax[0], np.log10(np.abs(F_X_theory)))\n",
    "ax[0].set_title('Magnitude')\n",
    "fig.colorbar(im0, ax=ax[0])\n",
    "im1 = grid_omega.plot(ax[1], np.angle(F_X_theory))\n",
    "ax[1].set_title('Phase')\n",
    "fig.colorbar(im1, ax=ax[1]);\n",
    "fig.suptitle('2D FT of ellipse');"
   ]
  },
  {
   "cell_type": "code",
   "execution_count": 14,
   "metadata": {},
   "outputs": [],
   "source": [
    "theta0_rad = np.pi/8\n",
    "theta0_deg = np.degrees(theta0_rad)\n",
    "axis_theta = RegularAxis.linspace(theta0_deg, 180, 1)\n",
    "axis_t = RegularAxis.linspace(-1, 1, 1001)\n",
    "grid_y = RegularGrid(axis_theta, axis_t)"
   ]
  },
  {
   "cell_type": "code",
   "execution_count": 15,
   "metadata": {},
   "outputs": [
    {
     "data": {
      "text/plain": [
       "<RegularAxis x0=22.5 T=157.5 N=1>"
      ]
     },
     "execution_count": 15,
     "metadata": {},
     "output_type": "execute_result"
    }
   ],
   "source": [
    "axis_theta"
   ]
  },
  {
   "cell_type": "code",
   "execution_count": 17,
   "metadata": {},
   "outputs": [],
   "source": [
    "p_properties = ellipse.sinogram(grid_y, _direct=False)\n",
    "p_direct = ellipse.sinogram(grid_y, _direct=True)"
   ]
  },
  {
   "cell_type": "code",
   "execution_count": 18,
   "metadata": {},
   "outputs": [
    {
     "data": {
      "application/vnd.jupyter.widget-view+json": {
       "model_id": "f6ad481ed75747fcaafdcdc6078e79e7",
       "version_major": 2,
       "version_minor": 0
      },
      "text/plain": [
       "Canvas(toolbar=Toolbar(toolitems=[('Home', 'Reset original view', 'home', 'home'), ('Back', 'Back to previous …"
      ]
     },
     "metadata": {},
     "output_type": "display_data"
    }
   ],
   "source": [
    "fig, ax = plt.subplots()\n",
    "ax.plot(axis_t, p_properties, marker='.', label='Fessler (properties)')\n",
    "ax.plot(axis_t, p_direct, label='Derivation')\n",
    "ax.legend();"
   ]
  },
  {
   "cell_type": "code",
   "execution_count": 19,
   "metadata": {},
   "outputs": [
    {
     "data": {
      "text/plain": [
       "True"
      ]
     },
     "execution_count": 19,
     "metadata": {},
     "output_type": "execute_result"
    }
   ],
   "source": [
    "np.allclose(p_properties, p_direct)"
   ]
  },
  {
   "cell_type": "code",
   "execution_count": 20,
   "metadata": {},
   "outputs": [
    {
     "name": "stdout",
     "output_type": "stream",
     "text": [
      "0.1\n"
     ]
    }
   ],
   "source": [
    "a = 5\n",
    "print(1/(2*a))"
   ]
  },
  {
   "cell_type": "code",
   "execution_count": 21,
   "metadata": {},
   "outputs": [],
   "source": [
    "p_rect = ellipse.sinogram(grid_y, rect=True, a=a)"
   ]
  },
  {
   "cell_type": "code",
   "execution_count": 22,
   "metadata": {},
   "outputs": [
    {
     "data": {
      "application/vnd.jupyter.widget-view+json": {
       "model_id": "278556ba744f47aa88a15372a0fa29e7",
       "version_major": 2,
       "version_minor": 0
      },
      "text/plain": [
       "Canvas(toolbar=Toolbar(toolitems=[('Home', 'Reset original view', 'home', 'home'), ('Back', 'Back to previous …"
      ]
     },
     "metadata": {},
     "output_type": "display_data"
    }
   ],
   "source": [
    "fig, ax = plt.subplots()\n",
    "ax.plot(axis_t, p_properties, marker='.', label='Fessler (properties)')\n",
    "ax.plot(axis_t, p_rect, label='Fessler (properties, rect)')\n",
    "ax.legend();"
   ]
  }
 ],
 "metadata": {
  "kernelspec": {
   "display_name": "Python 3 (ipykernel)",
   "language": "python",
   "name": "python3"
  },
  "language_info": {
   "codemirror_mode": {
    "name": "ipython",
    "version": 3
   },
   "file_extension": ".py",
   "mimetype": "text/x-python",
   "name": "python",
   "nbconvert_exporter": "python",
   "pygments_lexer": "ipython3",
   "version": "3.9.6"
  }
 },
 "nbformat": 4,
 "nbformat_minor": 4
}
