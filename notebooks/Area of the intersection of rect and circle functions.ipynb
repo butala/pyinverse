{
 "cells": [
  {
   "cell_type": "markdown",
   "metadata": {},
   "source": [
    "[0] Shepp, LA and Logan BF, \"The Fourier reconstruction of a head section.\" IEEE Transactions on Nuclear Science 21, No. 3 (1974)\n",
    "\n",
    "[1] Toft, PA, \"The Radon Transform - Theory and Implementation\", PhD dissertation, Departement of Mathematical Modelling, Technical University of Denmark (1996)\n",
    "\n",
    "[1] is apparently the reference for the higher contrast modified Shepp-Logan phantom.\n",
    "\n",
    "Below is from here: https://stackoverflow.com/a/32698993"
   ]
  },
  {
   "cell_type": "code",
   "execution_count": 1,
   "metadata": {},
   "outputs": [],
   "source": [
    "import numpy as np"
   ]
  },
  {
   "cell_type": "code",
   "execution_count": 2,
   "metadata": {},
   "outputs": [],
   "source": [
    "def section(h, r=1):\n",
    "    # returns the positive root of intersection of line y = h with circle centered at the origin and radius r\n",
    "    assert r >= 0\n",
    "    return np.sqrt(r**2 - h**2) if h < r else 0"
   ]
  },
  {
   "cell_type": "code",
   "execution_count": 3,
   "metadata": {},
   "outputs": [],
   "source": [
    "def g(x, h, r=1):\n",
    "    # indefinite integral of circle segment\n",
    "    # http://www.wolframalpha.com/input/?i=r+*+sin%28acos%28x+%2F+r%29%29+-+h\n",
    "    return 0.5*(np.sqrt(1 - x**2/r**2)*x*r + r**2*np.arcsin(x/r) - 2*h*x) "
   ]
  },
  {
   "cell_type": "code",
   "execution_count": 4,
   "metadata": {},
   "outputs": [],
   "source": [
    "def area2(x0, x1, h, r):\n",
    "    # area of intersection of an infinitely tall box with left edge at x0, right edge at x1, bottom edge at h and top edge at infinity, with circle centered at the origin with radius r\n",
    "    if x0 > x1:\n",
    "        x0, x1 = x1, x0\n",
    "    s = section(h, r)\n",
    "    # integrate the area\n",
    "    return g(max([-s, min([s, x1])]), h, r) - g(max([-s, min([s, x0])]), h, r)"
   ]
  },
  {
   "cell_type": "code",
   "execution_count": 5,
   "metadata": {},
   "outputs": [],
   "source": [
    "def area1(x0, x1, y0, y1, r):\n",
    "    if y0 > y1:\n",
    "        y0, y1 = y1, y0  # this will simplify the reasoning\n",
    "    if y0 < 0:\n",
    "        if y1 < 0:\n",
    "            return area1(x0, x1, -y0, -y1, r)  # the box is completely under, just flip it above and try again \n",
    "        else:\n",
    "            return area1(x0, x1, 0, -y0, r) + area1(x0, x1, 0, y1, r)  # the box is both above and below, divide it to two boxes and go again\n",
    "    else:\n",
    "        assert y1 >= 0  # y0 >= 0, which means that y1 >= 0 also (y1 >= y0) because of the swap at the beginning\n",
    "        return area2(x0, x1, y0, r) - area2(x0, x1, y1, r)  # area of the lower box minus area of the higher box"
   ]
  },
  {
   "cell_type": "code",
   "execution_count": 6,
   "metadata": {},
   "outputs": [],
   "source": [
    "def area(x0, x1, y0, y1, cx, cy, r):\n",
    "    x0 -= cx; x1 -= cx\n",
    "    y0 -= cy; y1 -= cy\n",
    "    # get rid of the circle center\n",
    "    return area1(x0, x1, y0, y1, r)"
   ]
  },
  {
   "cell_type": "markdown",
   "metadata": {},
   "source": [
    "```\n",
    "3.141593\n",
    "1.570796\n",
    "1.570796\n",
    "1.570796\n",
    "1.570796\n",
    "0.785398\n",
    "0.785398\n",
    "0.785398\n",
    "0.785398\n",
    "1.000000\n",
    "-0.000000\n",
    "0.000000\n",
    "0.000000\n",
    "0.000000\n",
    "```"
   ]
  },
  {
   "cell_type": "code",
   "execution_count": 7,
   "metadata": {},
   "outputs": [
    {
     "name": "stdout",
     "output_type": "stream",
     "text": [
      "3.141592653589793\n",
      "1.5707963267948966\n",
      "1.5707963267948966\n",
      "1.5707963267948966\n",
      "1.5707963267948966\n",
      "0.7853981633974483\n",
      "0.7853981633974483\n",
      "0.7853981633974483\n",
      "0.7853981633974483\n",
      "1.0\n",
      "0.0\n",
      "0.0\n",
      "0.0\n",
      "0.0\n"
     ]
    }
   ],
   "source": [
    "print(area(-10, 10, -10, 10, 0, 0, 1))  # unit circle completely inside a huge box, area of intersection is pi\n",
    "print(area(-10, 0, -10, 10, 0, 0, 1))   # half of unit circle inside a large box, area of intersection is pi/2\n",
    "print(area(0, 10, -10, 10, 0, 0, 1))    # half of unit circle inside a large box, area of intersection is pi/2\n",
    "print(area(-10, 10, -10, 0, 0, 0, 1))   # half of unit circle inside a large box, area of intersection is pi/2\n",
    "print(area(-10, 10, 0, 10, 0, 0, 1))    # half of unit circle inside a large box, area of intersection is pi/2\n",
    "print(area(0, 1, 0, 1, 0, 0, 1))        # unit box covering one quadrant of the circle, area of intersection is pi/4\n",
    "print(area(0, -1, 0, 1, 0, 0, 1))       # unit box covering one quadrant of the circle, area of intersection is pi/4\n",
    "print(area(0, -1, 0, -1, 0, 0, 1))      # unit box covering one quadrant of the circle, area of intersection is pi/4\n",
    "print(area(0, 1, 0, -1, 0, 0, 1))       # unit box covering one quadrant of the circle, area of intersection is pi/4\n",
    "print(area(-.5, .5, -.5, .5, 0, 0, 10)) # unit box completely inside a huge circle, area of intersection is 1 \n",
    "print(area(-20, -10, -10, 10, 0, 0, 1)) # huge box completely outside a circle (left), area of intersection is 0\n",
    "print(area(10, 20, -10, 10, 0, 0, 1))   # huge box completely outside a circle (right), area of intersection is 0\n",
    "print(area(-10, 10, -20, -10, 0, 0, 1)) # huge box completely outside a circle (below), area of intersection is 0\n",
    "print(area(-10, 10, 10, 20, 0, 0, 1))   # huge box completely outside a circle (above), area of intersection is 0"
   ]
  }
 ],
 "metadata": {
  "kernelspec": {
   "display_name": "Python 3",
   "language": "python",
   "name": "python3"
  },
  "language_info": {
   "codemirror_mode": {
    "name": "ipython",
    "version": 3
   },
   "file_extension": ".py",
   "mimetype": "text/x-python",
   "name": "python",
   "nbconvert_exporter": "python",
   "pygments_lexer": "ipython3",
   "version": "3.8.6"
  }
 },
 "nbformat": 4,
 "nbformat_minor": 4
}
