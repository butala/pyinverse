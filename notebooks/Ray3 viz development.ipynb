{
 "cells": [
  {
   "cell_type": "code",
   "execution_count": 1,
   "id": "3c9c2cbd-fe72-41a6-a004-f269884df504",
   "metadata": {
    "tags": []
   },
   "outputs": [],
   "source": [
    "%matplotlib widget"
   ]
  },
  {
   "cell_type": "code",
   "execution_count": 2,
   "id": "ffafde58-d9ef-42b5-b703-6f502c8e28fb",
   "metadata": {
    "tags": []
   },
   "outputs": [],
   "source": [
    "import numpy as np\n",
    "import scipy as sp\n",
    "\n",
    "from pyinverse.axes import RegularAxes3\n",
    "from pyinverse.grid import RegularGrid\n",
    "from pyinverse.ray3 import regular_axes2polytope, grid_uv2half_planes, beam2actor\n",
    "from pyviz3d.viz import Renderer"
   ]
  },
  {
   "cell_type": "code",
   "execution_count": 3,
   "id": "e5dcd531-f2f0-495e-abdb-1d268b723357",
   "metadata": {
    "tags": []
   },
   "outputs": [],
   "source": [
    "N1 = 5\n",
    "N2 = 8\n",
    "N3 = 6\n",
    "\n",
    "axes3 = RegularAxes3.linspace((-1, 1, N1), (-1, 1, N2), (-1, 1, N3))\n",
    "\n",
    "Nu = 7\n",
    "Nv = 8\n",
    "\n",
    "uv_grid = RegularGrid.linspace((-1, 1, Nu), (-1, 1, Nv))"
   ]
  },
  {
   "cell_type": "code",
   "execution_count": 4,
   "id": "e9e671e3-e5f0-4306-a051-1841a9df7d8a",
   "metadata": {
    "tags": []
   },
   "outputs": [],
   "source": [
    "ijk = (1, 0, 0)"
   ]
  },
  {
   "cell_type": "code",
   "execution_count": 5,
   "id": "53c5caec-e72f-40e5-9b78-91fbaec97695",
   "metadata": {
    "tags": []
   },
   "outputs": [],
   "source": [
    "voxel_ijk = axes3.voxel_actor(ijk, color='red')"
   ]
  },
  {
   "cell_type": "code",
   "execution_count": 6,
   "id": "3f58687f-5c46-4a7e-b2ed-7354930068fb",
   "metadata": {
    "tags": []
   },
   "outputs": [],
   "source": [
    "N_hires = 65\n",
    "# N_hires = 127\n",
    "\n",
    "axes3_voxel_hires = RegularAxes3.linspace((-1, 1, N_hires), (-1, 1, N_hires), (-1, 1, N_hires))\n",
    "axes3_beam_hires = RegularAxes3.linspace((-1, 1, N_hires), (-1, 1, N_hires), (-1, 1, N_hires))"
   ]
  },
  {
   "cell_type": "code",
   "execution_count": 7,
   "id": "a695757a-7c13-4439-b326-bd5bc563d676",
   "metadata": {
    "tags": []
   },
   "outputs": [],
   "source": [
    "ijk = (1, 0, 0)\n",
    "A_ijk, b_ijk = regular_axes2polytope(axes3, ijk)"
   ]
  },
  {
   "cell_type": "code",
   "execution_count": 8,
   "id": "cb5f9d08-90b4-44d6-94b1-2c033728d4ba",
   "metadata": {
    "tags": []
   },
   "outputs": [],
   "source": [
    "P_hires = np.array((axes3_voxel_hires.centers))"
   ]
  },
  {
   "cell_type": "code",
   "execution_count": 9,
   "id": "77363f25-dbe0-40ce-a4a8-ca57c7e49714",
   "metadata": {
    "tags": []
   },
   "outputs": [],
   "source": [
    "AP_hires = np.einsum('ij,jklm->iklm', np.array(A_ijk), P_hires)\n",
    "AP_hires.shape = 6, N_hires**3"
   ]
  },
  {
   "cell_type": "code",
   "execution_count": 10,
   "id": "bbc4955b-ea3a-436c-8f99-f214e060e656",
   "metadata": {
    "tags": []
   },
   "outputs": [],
   "source": [
    "I = [(x <= b_ijk).all() for x in AP_hires.T]\n",
    "I_blank = np.where(~np.array(I))"
   ]
  },
  {
   "cell_type": "code",
   "execution_count": 11,
   "id": "44f793df-bd61-4527-83da-25956141f990",
   "metadata": {
    "tags": []
   },
   "outputs": [],
   "source": [
    "X_hires = np.zeros((N_hires, N_hires, N_hires))\n",
    "I_indicator = np.where(np.array(I))\n",
    "X_hires.flat[I_indicator] = 1\n",
    "X_hires.flat[I_blank] = np.nan"
   ]
  },
  {
   "cell_type": "code",
   "execution_count": 12,
   "id": "438575c4-0b70-4e60-9bfb-6669495b21ae",
   "metadata": {
    "tags": []
   },
   "outputs": [],
   "source": [
    "X_ijk_actor = axes3_voxel_hires.actor(X_hires, vmin=0, vmax=1, blank_nan=True)"
   ]
  },
  {
   "cell_type": "code",
   "execution_count": 13,
   "id": "7b34ecbc-6f1c-4e50-8e36-94101e2288d5",
   "metadata": {
    "tags": []
   },
   "outputs": [],
   "source": [
    "theta = np.pi/8\n",
    "phi = np.pi/3\n",
    "mn = (1, 1)\n",
    "\n",
    "A_mn, b_mn = grid_uv2half_planes(theta, phi, uv_grid, mn)\n",
    "\n",
    "beam_mn_actor = beam2actor(uv_grid, mn, (-1.5*np.sqrt(2), 1.5*np.sqrt(2)), theta, phi)"
   ]
  },
  {
   "cell_type": "code",
   "execution_count": 14,
   "id": "538adb06-bd72-470c-9db1-7cb409b16fd9",
   "metadata": {
    "tags": []
   },
   "outputs": [],
   "source": [
    "AuvP_hires = np.einsum('ij,jklm->iklm', A_mn, P_hires)\n",
    "AuvP_hires.shape = 4, N_hires**3"
   ]
  },
  {
   "cell_type": "code",
   "execution_count": 15,
   "id": "81dcb2a5-213e-45ee-b6c2-822072206bc7",
   "metadata": {
    "tags": []
   },
   "outputs": [],
   "source": [
    "Iuv = [(x <= b_mn).all() for x in AuvP_hires.T]\n",
    "Iuv_blank = np.where(~np.array(Iuv))"
   ]
  },
  {
   "cell_type": "code",
   "execution_count": 16,
   "id": "d5fd6f66-3f57-4eb3-81a5-6faaea1f799c",
   "metadata": {
    "tags": []
   },
   "outputs": [],
   "source": [
    "Xuv_hires = np.zeros((N_hires, N_hires, N_hires))\n",
    "Iuv_indicator = np.where(np.array(Iuv))\n",
    "Xuv_hires.flat[Iuv_indicator] = 1\n",
    "Xuv_hires.flat[Iuv_blank] = np.nan"
   ]
  },
  {
   "cell_type": "code",
   "execution_count": 17,
   "id": "55b612ef-6c7e-445d-93e2-396d692a8608",
   "metadata": {
    "tags": []
   },
   "outputs": [],
   "source": [
    "Xuv_mn_actor = axes3_beam_hires.actor(Xuv_hires, vmin=0, vmax=1, blank_nan=True)"
   ]
  },
  {
   "cell_type": "code",
   "execution_count": 18,
   "id": "c446c198-b544-483a-bb7d-2969ebf624be",
   "metadata": {
    "tags": []
   },
   "outputs": [],
   "source": [
    "ren = Renderer()\n",
    "ren.add_actor(voxel_ijk)\n",
    "ren.add_actor(X_ijk_actor)\n",
    "ren.add_actor(beam_mn_actor)\n",
    "ren.add_actor(Xuv_mn_actor)\n",
    "ren.axes_on((-1, 1, -1, 1, -1, 1))\n",
    "ren.reset_camera()\n",
    "ren.start()"
   ]
  }
 ],
 "metadata": {
  "kernelspec": {
   "display_name": "Python 3 (ipykernel)",
   "language": "python",
   "name": "python3"
  },
  "language_info": {
   "codemirror_mode": {
    "name": "ipython",
    "version": 3
   },
   "file_extension": ".py",
   "mimetype": "text/x-python",
   "name": "python",
   "nbconvert_exporter": "python",
   "pygments_lexer": "ipython3",
   "version": "3.11.3"
  }
 },
 "nbformat": 4,
 "nbformat_minor": 5
}
