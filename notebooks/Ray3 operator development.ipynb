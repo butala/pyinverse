{
 "cells": [
  {
   "cell_type": "code",
   "execution_count": 1,
   "id": "af862acd-122b-442e-b703-a7d68ab46b58",
   "metadata": {
    "tags": []
   },
   "outputs": [],
   "source": [
    "import math\n",
    "from itertools import product\n",
    "\n",
    "import numpy as np\n",
    "\n",
    "from pyinverse.grid import RegularGrid\n",
    "from pyinverse.axes import RegularAxes3\n",
    "from pyinverse.ray3 import regular_axes2polytope, grid_uv2half_planes, beam2actor\n",
    "from pyinverse.volume import volume_cal\n",
    "\n",
    "from pyviz3d.viz import Renderer"
   ]
  },
  {
   "cell_type": "code",
   "execution_count": 2,
   "id": "ca09ef60-4f5b-4293-926d-579c72168b04",
   "metadata": {
    "tags": []
   },
   "outputs": [],
   "source": [
    "#Nx = Ny = Nz = 9\n",
    "Nx = 9 \n",
    "Ny = 10\n",
    "Nz = 11\n",
    "axes3 = RegularAxes3.linspace((-1, 1, Nx), (-1, 1, Ny), (-1, 1, Nz))"
   ]
  },
  {
   "cell_type": "code",
   "execution_count": 3,
   "id": "447bc815-0665-4311-8a80-16bb0fd7c19f",
   "metadata": {
    "tags": []
   },
   "outputs": [],
   "source": [
    "Nu = Nv = 11\n",
    "\n",
    "mn = (4, 5)\n",
    "\n",
    "#phi_deg = 15\n",
    "#theta_deg = 25\n",
    "phi_deg = 45\n",
    "theta_deg = 15\n",
    "\n",
    "grid_uv = RegularGrid.linspace((-1, 1, Nu), (-1, 1, Nv))"
   ]
  },
  {
   "cell_type": "code",
   "execution_count": 4,
   "id": "150779ca-e76d-471d-b48d-5ed9e8f90ed2",
   "metadata": {
    "tags": []
   },
   "outputs": [],
   "source": [
    "A_mn, b_mn = grid_uv2half_planes(theta_deg, phi_deg, grid_uv, mn, degrees=True)"
   ]
  },
  {
   "cell_type": "code",
   "execution_count": 5,
   "id": "850abd80-a039-4008-b15c-6fc373eda0b1",
   "metadata": {
    "tags": []
   },
   "outputs": [],
   "source": [
    "def ray_row(A_mn, b_mn, u_T, v_T, axes3):\n",
    "    Nz, Ny, Nx = axes3.shape\n",
    "    \n",
    "    data = []\n",
    "    indices = []\n",
    "    \n",
    "    for kji in product(range(Nx), range(Ny), range(Nz)):\n",
    "        ijk = kji[::-1]\n",
    "        A_ijk, b_ijk = regular_axes2polytope(axes3, ijk)\n",
    "\n",
    "        A_lass = np.vstack((A_ijk, A_mn))\n",
    "        b_lass = np.hstack((b_ijk, b_mn))\n",
    "        \n",
    "        vol = volume_cal(10, 3, A_lass, b_lass) / (u_T * v_T)\n",
    "        if not np.allclose(vol, 0):\n",
    "            data.append(vol)\n",
    "            indices.append(RegularAxes3.ravel_multi_index(([ijk[2]], [ijk[1]], [ijk[0]]), axes3.shape)[0])\n",
    "    \n",
    "    sorted_indices, sorted_data = list(zip(*sorted(zip(indices, data), key=lambda x: x[0])))\n",
    "    return sorted_data, sorted_indices"
   ]
  },
  {
   "cell_type": "code",
   "execution_count": 6,
   "id": "825bf42c-206d-4cbc-af45-ce0caddee8a7",
   "metadata": {
    "tags": []
   },
   "outputs": [],
   "source": [
    "data, indices = ray_row(A_mn, b_mn, grid_uv.axis_x.T, grid_uv.axis_y.T, axes3)"
   ]
  },
  {
   "cell_type": "code",
   "execution_count": 7,
   "id": "1521b98c-7a75-4133-8bf3-2d7a9a4c9cde",
   "metadata": {
    "tags": []
   },
   "outputs": [],
   "source": [
    "def regular_axes2polytope2(axes3, i1, i2, j1, j2, k1, k2):\n",
    "    \"\"\"\n",
    "    \"\"\"\n",
    "    A = [[-1,  0,  0],\n",
    "         [ 1,  0,  0],\n",
    "         [ 0, -1,  0],\n",
    "         [ 0,  1,  0],\n",
    "         [ 0,  0, -1],\n",
    "         [ 0,  0,  1]]\n",
    "    b = [-axes3.axis_z.borders[i1],\n",
    "          axes3.axis_z.borders[i2],\n",
    "         -axes3.axis_y.borders[j1],\n",
    "          axes3.axis_y.borders[j2],\n",
    "         -axes3.axis_x.borders[k1],\n",
    "          axes3.axis_x.borders[k2]]\n",
    "    return A, b"
   ]
  },
  {
   "cell_type": "code",
   "execution_count": 8,
   "id": "a4336027-c77c-4b58-9294-bb4cf9cfa3d0",
   "metadata": {
    "tags": []
   },
   "outputs": [
    {
     "data": {
      "text/plain": [
       "((0, 3), (4, 7))"
      ]
     },
     "execution_count": 8,
     "metadata": {},
     "output_type": "execute_result"
    }
   ],
   "source": [
    "i1 = 0\n",
    "i2 = 7\n",
    "\n",
    "(i1, i2//2), (i2//2+1, i2)"
   ]
  },
  {
   "cell_type": "code",
   "execution_count": 9,
   "id": "200fac7d-d1cc-474f-b224-cda1822340b7",
   "metadata": {
    "tags": []
   },
   "outputs": [
    {
     "data": {
      "text/plain": [
       "1"
      ]
     },
     "execution_count": 9,
     "metadata": {},
     "output_type": "execute_result"
    }
   ],
   "source": [
    "math.ceil(1/2)"
   ]
  },
  {
   "cell_type": "code",
   "execution_count": 10,
   "id": "610543fb-33d5-42c5-bbe6-6d96e28a8445",
   "metadata": {
    "tags": []
   },
   "outputs": [],
   "source": [
    "def test(i1, i2):\n",
    "    def test_helper(i_list, i1, i2):\n",
    "        #print(i1, i2)\n",
    "        assert i2 > i1\n",
    "        if i2 == i1 + 1:\n",
    "            i_list.append((i1, i2))\n",
    "        else:\n",
    "            b = i2 - i1\n",
    "            c = math.ceil(b/2) + i1\n",
    "            test_helper(i_list, i1, c)\n",
    "            test_helper(i_list, c, i2)\n",
    "        return i_list\n",
    "    \n",
    "    return test_helper([], i1, i2)"
   ]
  },
  {
   "cell_type": "code",
   "execution_count": 11,
   "id": "923620c5-5972-4cd1-bd20-ac04a245e480",
   "metadata": {
    "tags": []
   },
   "outputs": [
    {
     "data": {
      "text/plain": [
       "[(0, 1),\n",
       " (1, 2),\n",
       " (2, 3),\n",
       " (3, 4),\n",
       " (4, 5),\n",
       " (5, 6),\n",
       " (6, 7),\n",
       " (7, 8),\n",
       " (8, 9),\n",
       " (9, 10)]"
      ]
     },
     "execution_count": 11,
     "metadata": {},
     "output_type": "execute_result"
    }
   ],
   "source": [
    "test(0, 10)"
   ]
  },
  {
   "cell_type": "code",
   "execution_count": 12,
   "id": "997b6933-777c-4dc3-b04c-5142ae22efc5",
   "metadata": {
    "tags": []
   },
   "outputs": [],
   "source": [
    "def test2(i1, i2, j1, j2):\n",
    "    def test_helper(i_list, i1, i2, j1, j2):\n",
    "        if (i2 <= i1) or (j2 <= j1):\n",
    "            return\n",
    "        if (i2 == i1 + 1) and (j2 == j1 + 1):\n",
    "            i_list.append((i1, i2, j1, j2))\n",
    "        else:\n",
    "            bi = i2 - i1\n",
    "            ci = math.ceil(bi/2) + i1\n",
    "            \n",
    "            bj = j2 - j1\n",
    "            cj = math.ceil(bj/2) + j1\n",
    "            \n",
    "            test_helper(i_list, i1, ci, j1, cj)\n",
    "            test_helper(i_list, ci, i2, j1, cj)\n",
    "            test_helper(i_list, i1, ci, cj, j2)\n",
    "            test_helper(i_list, ci, i2, cj, j2)\n",
    "        return i_list\n",
    "    \n",
    "    return test_helper([], i1, i2, j1, j2)"
   ]
  },
  {
   "cell_type": "code",
   "execution_count": 13,
   "id": "0fc8cfaf-3bd6-4369-a575-a3ce476fc139",
   "metadata": {
    "tags": []
   },
   "outputs": [
    {
     "data": {
      "text/plain": [
       "[(0, 1, 0, 1),\n",
       " (0, 1, 1, 2),\n",
       " (0, 1, 2, 3),\n",
       " (1, 2, 0, 1),\n",
       " (1, 2, 1, 2),\n",
       " (1, 2, 2, 3),\n",
       " (2, 3, 0, 1),\n",
       " (2, 3, 1, 2),\n",
       " (2, 3, 2, 3),\n",
       " (3, 4, 0, 1),\n",
       " (3, 4, 1, 2),\n",
       " (3, 4, 2, 3),\n",
       " (4, 5, 0, 1),\n",
       " (4, 5, 1, 2),\n",
       " (4, 5, 2, 3),\n",
       " (5, 6, 0, 1),\n",
       " (5, 6, 1, 2),\n",
       " (5, 6, 2, 3),\n",
       " (6, 7, 0, 1),\n",
       " (6, 7, 1, 2),\n",
       " (6, 7, 2, 3),\n",
       " (7, 8, 0, 1),\n",
       " (7, 8, 1, 2),\n",
       " (7, 8, 2, 3),\n",
       " (8, 9, 0, 1),\n",
       " (8, 9, 1, 2),\n",
       " (8, 9, 2, 3),\n",
       " (9, 10, 0, 1),\n",
       " (9, 10, 1, 2),\n",
       " (9, 10, 2, 3)]"
      ]
     },
     "execution_count": 13,
     "metadata": {},
     "output_type": "execute_result"
    }
   ],
   "source": [
    "sorted(test2(0, 10, 0, 3))"
   ]
  },
  {
   "cell_type": "code",
   "execution_count": 14,
   "id": "a155cf48-fbbd-412b-8f08-94b0cca57d2f",
   "metadata": {
    "tags": []
   },
   "outputs": [],
   "source": [
    "def test3(i1, i2, j1, j2, k1, k2):\n",
    "    def test_helper(i_list, i1, i2, j1, j2, k1, k2):\n",
    "        if (i2 <= i1) or (j2 <= j1) or (k2 <= k1):\n",
    "            return\n",
    "        if (i2 == i1 + 1) and (j2 == j1 + 1) and (k2 == k1 + 1):\n",
    "            i_list.append((i1, i2, j1, j2, k1, k2))\n",
    "        else:\n",
    "            bi = i2 - i1\n",
    "            ci = math.ceil(bi/2) + i1\n",
    "            \n",
    "            bj = j2 - j1\n",
    "            cj = math.ceil(bj/2) + j1\n",
    "            \n",
    "            bk = k2 - k1\n",
    "            ck = math.ceil(bk/2) + k1\n",
    "            \n",
    "            test_helper(i_list, i1, ci, j1, cj, k1, ck)\n",
    "            test_helper(i_list, ci, i2, j1, cj, k1, ck)\n",
    "            test_helper(i_list, i1, ci, cj, j2, k1, ck)\n",
    "            test_helper(i_list, ci, i2, cj, j2, k1, ck)\n",
    "            \n",
    "            test_helper(i_list, i1, ci, j1, cj, ck, k2)\n",
    "            test_helper(i_list, ci, i2, j1, cj, ck, k2)\n",
    "            test_helper(i_list, i1, ci, cj, j2, ck, k2)\n",
    "            test_helper(i_list, ci, i2, cj, j2, ck, k2)\n",
    "        return i_list\n",
    "    \n",
    "    return test_helper([], i1, i2, j1, j2, k1, k2)"
   ]
  },
  {
   "cell_type": "code",
   "execution_count": 15,
   "id": "e2e65c04-7b38-4f5f-9734-749d23dd8e60",
   "metadata": {
    "tags": []
   },
   "outputs": [
    {
     "data": {
      "text/plain": [
       "150"
      ]
     },
     "execution_count": 15,
     "metadata": {},
     "output_type": "execute_result"
    }
   ],
   "source": [
    "len(test3(0, 10, 0, 3, 0, 5))"
   ]
  },
  {
   "cell_type": "code",
   "execution_count": 16,
   "id": "aa1c7ad2-8088-4dd0-af2f-c45b4422a3cc",
   "metadata": {
    "tags": []
   },
   "outputs": [],
   "source": [
    "def ray_row2(A_mn, b_mn, u_T, v_T, axes3):\n",
    "    Nz, Ny, Nx = axes3.shape\n",
    "    \n",
    "    data = []\n",
    "    indices = []\n",
    "    \n",
    "    def ray_helper(data_i, indices_i, i1, i2, j1, j2, k1, k2):\n",
    "        if (i2 <= i1) or (j2 <= j1) or (k2 <= k1):\n",
    "            return\n",
    "        \n",
    "        A_ijk, b_ijk = regular_axes2polytope2(axes3, i1, i2, j1, j2, k1, k2)\n",
    "        \n",
    "        A_lass = np.vstack((A_ijk, A_mn))\n",
    "        b_lass = np.hstack((b_ijk, b_mn))\n",
    "        \n",
    "        vol = volume_cal(10, 3, A_lass, b_lass) / (u_T * v_T)\n",
    "        \n",
    "        if np.allclose(vol, 0):\n",
    "            return\n",
    "        \n",
    "        if (i2 == i1 + 1) and (j2 == j1 + 1) and (k2 == k1 + 1):\n",
    "            data_i.append(vol)\n",
    "            indices_i.append((k1, j1, i1))\n",
    "            \n",
    "        else:\n",
    "            bi = i2 - i1\n",
    "            ci = math.ceil(bi/2) + i1\n",
    "            \n",
    "            bj = j2 - j1\n",
    "            cj = math.ceil(bj/2) + j1\n",
    "            \n",
    "            bk = k2 - k1\n",
    "            ck = math.ceil(bk/2) + k1\n",
    "            \n",
    "            ray_helper(data_i, indices_i, i1, ci, j1, cj, k1, ck)\n",
    "            ray_helper(data_i, indices_i, ci, i2, j1, cj, k1, ck)\n",
    "            ray_helper(data_i, indices_i, i1, ci, cj, j2, k1, ck)\n",
    "            ray_helper(data_i, indices_i, ci, i2, cj, j2, k1, ck)\n",
    "            \n",
    "            ray_helper(data_i, indices_i, i1, ci, j1, cj, ck, k2)\n",
    "            ray_helper(data_i, indices_i, ci, i2, j1, cj, ck, k2)\n",
    "            ray_helper(data_i, indices_i, i1, ci, cj, j2, ck, k2)\n",
    "            ray_helper(data_i, indices_i, ci, i2, cj, j2, ck, k2)\n",
    "        return data_i, indices_i\n",
    "            \n",
    "    data, ijk = ray_helper([], [], 0, Nz, 0, Ny, 0, Nx)\n",
    "    flat_indices = RegularAxes3.ravel_multi_index(list(zip(*ijk)), axes3.shape)\n",
    "    sorted_indices, sorted_data = list(zip(*sorted(zip(flat_indices, data), key=lambda x: x[0])))\n",
    "    return sorted_data, sorted_indices"
   ]
  },
  {
   "cell_type": "code",
   "execution_count": 17,
   "id": "6c836ff7-b1cd-4eca-a01b-8aec70f4632d",
   "metadata": {
    "tags": []
   },
   "outputs": [],
   "source": [
    "data2, indices2 = ray_row2(A_mn, b_mn, grid_uv.axis_x.T, grid_uv.axis_y.T, axes3)"
   ]
  },
  {
   "cell_type": "code",
   "execution_count": 18,
   "id": "709dde4a-81d0-4a83-9f67-4b833702b98b",
   "metadata": {
    "tags": []
   },
   "outputs": [
    {
     "data": {
      "text/plain": [
       "(64, 64)"
      ]
     },
     "execution_count": 18,
     "metadata": {},
     "output_type": "execute_result"
    }
   ],
   "source": [
    "len(data), len(data2)"
   ]
  },
  {
   "cell_type": "code",
   "execution_count": 19,
   "id": "cf5f14fb-c4f7-4671-8e6c-76e55166b3f2",
   "metadata": {
    "tags": []
   },
   "outputs": [
    {
     "data": {
      "text/plain": [
       "True"
      ]
     },
     "execution_count": 19,
     "metadata": {},
     "output_type": "execute_result"
    }
   ],
   "source": [
    "np.allclose(data, data2)"
   ]
  },
  {
   "cell_type": "code",
   "execution_count": 20,
   "id": "a036b8da-fd0e-4bb4-ad30-dc56ab457194",
   "metadata": {
    "tags": []
   },
   "outputs": [
    {
     "data": {
      "text/plain": [
       "True"
      ]
     },
     "execution_count": 20,
     "metadata": {},
     "output_type": "execute_result"
    }
   ],
   "source": [
    "indices == indices2"
   ]
  },
  {
   "cell_type": "code",
   "execution_count": 21,
   "id": "a0726d54-87c1-44a0-b32a-ccce2c8fe696",
   "metadata": {
    "tags": []
   },
   "outputs": [],
   "source": [
    "e_min_max = (-1.2*np.sqrt(2), 1.2*np.sqrt(2))\n",
    "beam_actor = beam2actor(grid_uv, mn, e_min_max, theta_deg, phi_deg, deg=True)"
   ]
  },
  {
   "cell_type": "code",
   "execution_count": 22,
   "id": "389b2eb7-4439-4f84-8e47-e45f7e440d0d",
   "metadata": {
    "tags": []
   },
   "outputs": [],
   "source": [
    "X = np.zeros(axes3.shape)\n",
    "X.flat[np.array(indices)] = data"
   ]
  },
  {
   "cell_type": "code",
   "execution_count": 23,
   "id": "29dab066-f8d0-4950-acc7-071e479280a4",
   "metadata": {
    "tags": []
   },
   "outputs": [],
   "source": [
    "ijk_set = set(zip(*RegularAxes3.unravel_indices(indices, axes3.shape)))\n",
    "\n",
    "for ijk in product(range(Nx), range(Ny), range(Nz)):\n",
    "    if ijk not in ijk_set:\n",
    "        k, j, i = ijk\n",
    "        X[i, j, k] = np.nan"
   ]
  },
  {
   "cell_type": "code",
   "execution_count": 24,
   "id": "45c0f016-2024-483c-b822-7581d91a3674",
   "metadata": {
    "tags": []
   },
   "outputs": [],
   "source": [
    "X_actor = axes3.actor(X, blank_nan=True)"
   ]
  },
  {
   "cell_type": "code",
   "execution_count": 25,
   "id": "538da5ab-2d01-4dff-a84f-e121c3a85794",
   "metadata": {
    "tags": []
   },
   "outputs": [],
   "source": [
    "ren = Renderer()\n",
    "ren.add_actor(beam_actor)\n",
    "ren.add_actor(X_actor)\n",
    "ren.axes_on((-1, 1, -1, 1, -1, 1))\n",
    "ren.reset_camera()\n",
    "ren.start()"
   ]
  }
 ],
 "metadata": {
  "kernelspec": {
   "display_name": "Python 3 (ipykernel)",
   "language": "python",
   "name": "python3"
  },
  "language_info": {
   "codemirror_mode": {
    "name": "ipython",
    "version": 3
   },
   "file_extension": ".py",
   "mimetype": "text/x-python",
   "name": "python",
   "nbconvert_exporter": "python",
   "pygments_lexer": "ipython3",
   "version": "3.11.3"
  }
 },
 "nbformat": 4,
 "nbformat_minor": 5
}
