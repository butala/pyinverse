{
 "cells": [
  {
   "cell_type": "markdown",
   "metadata": {},
   "source": [
    "\\begin{equation}\n",
    "\\omega = \\Omega\\, T_s\n",
    "\\end{equation}\n",
    "\n",
    "\\begin{equation}\n",
    "\\omega = \\frac{2\\pi k}{N},\\; k=0, \\dotsc, N-1\n",
    "\\end{equation}\n",
    "\n",
    "\\begin{equation}\n",
    "X_d(\\omega) = \\frac{1}{T_s} \\sum_{k=-\\infty}^\\infty X_c\\biggl(\\frac{\\omega - 2\\pi k}{T_s}\\biggr)\n",
    "\\end{equation}\n",
    "\n",
    "\\begin{equation}\n",
    "\\text{rect}(t) =\n",
    "\\begin{cases}\n",
    "1 & |t| \\leq \\frac{1}{2} \\\\ \n",
    "0 & \\text{otherwise}\n",
    "\\end{cases}\n",
    "\\end{equation}\n",
    "\n",
    "\\begin{equation}\n",
    "\\text{sinc}(x) =\n",
    "\\begin{cases}\n",
    "1 & x = 0 \\\\\n",
    "\\frac{\\sin x}{x} & \\text{otherwise}\n",
    "\\end{cases}\n",
    "\\end{equation}\n",
    "\n",
    "\\begin{equation}\n",
    "\\text{rect(t)} \\overset{\\mathfrak{F}}{\\longleftrightarrow} \\text{sinc}(\\Omega/2)\n",
    "\\end{equation}\n",
    "\n",
    "\\begin{equation}\n",
    "x(at) \\overset{\\mathfrak{F}}{\\longleftrightarrow} \\frac{1}{|a|} X_c\\biggl(\\frac{\\Omega}{a}\\biggr)\n",
    "\\end{equation}"
   ]
  },
  {
   "cell_type": "code",
   "execution_count": 1,
   "metadata": {},
   "outputs": [],
   "source": [
    "%matplotlib widget"
   ]
  },
  {
   "cell_type": "code",
   "execution_count": 2,
   "metadata": {},
   "outputs": [],
   "source": [
    "import numpy as np\n",
    "import scipy.fft\n",
    "import matplotlib.pyplot as plt"
   ]
  },
  {
   "cell_type": "code",
   "execution_count": 3,
   "metadata": {},
   "outputs": [],
   "source": [
    "a = 4.1\n",
    "N = 128"
   ]
  },
  {
   "cell_type": "code",
   "execution_count": 4,
   "metadata": {},
   "outputs": [],
   "source": [
    "d = 0.5\n",
    "Ts = 1/(d*N)\n",
    "t = scipy.fft.fftfreq(N, d=0.5)\n",
    "t_bounds = np.linspace(min(t) - Ts/2, max(t) + Ts/2, N+1)"
   ]
  },
  {
   "cell_type": "code",
   "execution_count": 5,
   "metadata": {},
   "outputs": [
    {
     "data": {
      "text/plain": [
       "(array([0.015625, 0.015625, 0.015625, 0.015625, 0.015625, 0.015625,\n",
       "        0.015625, 0.015625, 0.015625, 0.015625, 0.015625, 0.015625,\n",
       "        0.015625, 0.015625, 0.015625, 0.015625, 0.015625, 0.015625,\n",
       "        0.015625, 0.015625, 0.015625, 0.015625, 0.015625, 0.015625,\n",
       "        0.015625, 0.015625, 0.015625, 0.015625, 0.015625, 0.015625,\n",
       "        0.015625, 0.015625, 0.015625, 0.015625, 0.015625, 0.015625,\n",
       "        0.015625, 0.015625, 0.015625, 0.015625, 0.015625, 0.015625,\n",
       "        0.015625, 0.015625, 0.015625, 0.015625, 0.015625, 0.015625,\n",
       "        0.015625, 0.015625, 0.015625, 0.015625, 0.015625, 0.015625,\n",
       "        0.015625, 0.015625, 0.015625, 0.015625, 0.015625, 0.015625,\n",
       "        0.015625, 0.015625, 0.015625, 0.015625, 0.015625, 0.015625,\n",
       "        0.015625, 0.015625, 0.015625, 0.015625, 0.015625, 0.015625,\n",
       "        0.015625, 0.015625, 0.015625, 0.015625, 0.015625, 0.015625,\n",
       "        0.015625, 0.015625, 0.015625, 0.015625, 0.015625, 0.015625,\n",
       "        0.015625, 0.015625, 0.015625, 0.015625, 0.015625, 0.015625,\n",
       "        0.015625, 0.015625, 0.015625, 0.015625, 0.015625, 0.015625,\n",
       "        0.015625, 0.015625, 0.015625, 0.015625, 0.015625, 0.015625,\n",
       "        0.015625, 0.015625, 0.015625, 0.015625, 0.015625, 0.015625,\n",
       "        0.015625, 0.015625, 0.015625, 0.015625, 0.015625, 0.015625,\n",
       "        0.015625, 0.015625, 0.015625, 0.015625, 0.015625, 0.015625,\n",
       "        0.015625, 0.015625, 0.015625, 0.015625, 0.015625, 0.015625,\n",
       "        0.015625, 0.015625]),\n",
       " 0.015625)"
      ]
     },
     "execution_count": 5,
     "metadata": {},
     "output_type": "execute_result"
    }
   ],
   "source": [
    "np.diff(t_bounds), Ts"
   ]
  },
  {
   "cell_type": "code",
   "execution_count": 6,
   "metadata": {},
   "outputs": [],
   "source": [
    "omega = scipy.fft.rfftfreq(N, d=1/(2*np.pi))\n",
    "Omega = omega / Ts"
   ]
  },
  {
   "cell_type": "code",
   "execution_count": 7,
   "metadata": {},
   "outputs": [
    {
     "data": {
      "application/vnd.jupyter.widget-view+json": {
       "model_id": "ac64612eed3848a29c11b554ea985743",
       "version_major": 2,
       "version_minor": 0
      },
      "text/plain": [
       "Canvas(toolbar=Toolbar(toolitems=[('Home', 'Reset original view', 'home', 'home'), ('Back', 'Back to previous …"
      ]
     },
     "metadata": {},
     "output_type": "display_data"
    },
    {
     "data": {
      "text/plain": [
       "[<matplotlib.lines.Line2D at 0x10df1eee0>]"
      ]
     },
     "execution_count": 7,
     "metadata": {},
     "output_type": "execute_result"
    }
   ],
   "source": [
    "K = 20\n",
    "Omega1 = np.linspace(0, K*2*np.pi/Ts, 1000)\n",
    "\n",
    "\n",
    "fig, ax = plt.subplots()\n",
    "ax.plot(Omega1, 1/a * np.sinc(Omega1/np.pi/2/a))"
   ]
  },
  {
   "cell_type": "code",
   "execution_count": 8,
   "metadata": {},
   "outputs": [
    {
     "data": {
      "application/vnd.jupyter.widget-view+json": {
       "model_id": "43e02c185a3a4e55ad6558d7b2f02027",
       "version_major": 2,
       "version_minor": 0
      },
      "text/plain": [
       "Canvas(toolbar=Toolbar(toolitems=[('Home', 'Reset original view', 'home', 'home'), ('Back', 'Back to previous …"
      ]
     },
     "metadata": {},
     "output_type": "display_data"
    },
    {
     "data": {
      "text/plain": [
       "[<matplotlib.lines.Line2D at 0x10e103c40>]"
      ]
     },
     "execution_count": 8,
     "metadata": {},
     "output_type": "execute_result"
    }
   ],
   "source": [
    "fig, ax = plt.subplots()\n",
    "ax.plot(Omega1, 1/Ts * np.sinc(Omega1/np.pi/2/Ts))"
   ]
  },
  {
   "cell_type": "code",
   "execution_count": 9,
   "metadata": {},
   "outputs": [],
   "source": [
    "Xc = np.zeros_like(Omega)\n",
    "K = 100\n",
    "for k in range(K):\n",
    "    Xc += np.sinc((Omega + 2*np.pi*k/Ts)/np.pi/2/a) / np.abs(a)"
   ]
  },
  {
   "cell_type": "code",
   "execution_count": 10,
   "metadata": {},
   "outputs": [],
   "source": [
    "#conv = np.sinc(Omega/2*Ts)\n",
    "conv = np.ones_like(Omega)"
   ]
  },
  {
   "cell_type": "markdown",
   "metadata": {},
   "source": [
    "conv = np.zeros_like(Omega)\n",
    "K = 100\n",
    "for k in range(K):\n",
    "    conv += np.sinc((Omega + 2*np.pi*k/(Ts/2)/np.pi/2/(Ts/2))) / np.abs(Ts/2)"
   ]
  },
  {
   "cell_type": "code",
   "execution_count": 26,
   "metadata": {},
   "outputs": [],
   "source": [
    "x_hat = scipy.fft.irfft(Xc * conv / Ts)"
   ]
  },
  {
   "cell_type": "code",
   "execution_count": 27,
   "metadata": {},
   "outputs": [
    {
     "data": {
      "application/vnd.jupyter.widget-view+json": {
       "model_id": "1d512beecaa54dad92d9bcf21de7b486",
       "version_major": 2,
       "version_minor": 0
      },
      "text/plain": [
       "Canvas(toolbar=Toolbar(toolitems=[('Home', 'Reset original view', 'home', 'home'), ('Back', 'Back to previous …"
      ]
     },
     "metadata": {},
     "output_type": "display_data"
    }
   ],
   "source": [
    "fig, ax = plt.subplots()\n",
    "ax.stem(scipy.fft.fftshift(t), scipy.fft.fftshift(x_hat), basefmt='')\n",
    "#ax.axvline(x=1/(2*a), c='r')\n",
    "#ax.axvline(x=-1/(2*a), c='r')\n",
    "ax.plot([min(t), -1/(2*a)], [0, 0], c='r')\n",
    "ax.plot([-1/(2*a), -1/(2*a)], [0, 1], c='r')\n",
    "ax.plot([-1/(2*a), 1/(2*a)], [1, 1], c='r')\n",
    "ax.plot([1/(2*a), 1/(2*a)], [0, 1], c='r')\n",
    "ax.plot([1/(2*a), max(t)], [0, 0], c='r')\n",
    "for x in t_bounds:\n",
    "    ax.axvline(x=x, c='k', alpha=0.3)"
   ]
  },
  {
   "cell_type": "code",
   "execution_count": 14,
   "metadata": {},
   "outputs": [
    {
     "data": {
      "text/plain": [
       "-0.12195121951219513"
      ]
     },
     "execution_count": 14,
     "metadata": {},
     "output_type": "execute_result"
    }
   ],
   "source": [
    "-1/(2*a)"
   ]
  },
  {
   "cell_type": "code",
   "execution_count": 16,
   "metadata": {},
   "outputs": [
    {
     "data": {
      "text/plain": [
       "array([-1.0078125, -0.9921875, -0.9765625, -0.9609375, -0.9453125,\n",
       "       -0.9296875, -0.9140625, -0.8984375, -0.8828125, -0.8671875,\n",
       "       -0.8515625, -0.8359375, -0.8203125, -0.8046875, -0.7890625,\n",
       "       -0.7734375, -0.7578125, -0.7421875, -0.7265625, -0.7109375,\n",
       "       -0.6953125, -0.6796875, -0.6640625, -0.6484375, -0.6328125,\n",
       "       -0.6171875, -0.6015625, -0.5859375, -0.5703125, -0.5546875,\n",
       "       -0.5390625, -0.5234375, -0.5078125, -0.4921875, -0.4765625,\n",
       "       -0.4609375, -0.4453125, -0.4296875, -0.4140625, -0.3984375,\n",
       "       -0.3828125, -0.3671875, -0.3515625, -0.3359375, -0.3203125,\n",
       "       -0.3046875, -0.2890625, -0.2734375, -0.2578125, -0.2421875,\n",
       "       -0.2265625, -0.2109375, -0.1953125, -0.1796875, -0.1640625,\n",
       "       -0.1484375, -0.1328125, -0.1171875, -0.1015625, -0.0859375,\n",
       "       -0.0703125, -0.0546875, -0.0390625, -0.0234375, -0.0078125,\n",
       "        0.0078125,  0.0234375,  0.0390625,  0.0546875,  0.0703125,\n",
       "        0.0859375,  0.1015625,  0.1171875,  0.1328125,  0.1484375,\n",
       "        0.1640625,  0.1796875,  0.1953125,  0.2109375,  0.2265625,\n",
       "        0.2421875,  0.2578125,  0.2734375,  0.2890625,  0.3046875,\n",
       "        0.3203125,  0.3359375,  0.3515625,  0.3671875,  0.3828125,\n",
       "        0.3984375,  0.4140625,  0.4296875,  0.4453125,  0.4609375,\n",
       "        0.4765625,  0.4921875,  0.5078125,  0.5234375,  0.5390625,\n",
       "        0.5546875,  0.5703125,  0.5859375,  0.6015625,  0.6171875,\n",
       "        0.6328125,  0.6484375,  0.6640625,  0.6796875,  0.6953125,\n",
       "        0.7109375,  0.7265625,  0.7421875,  0.7578125,  0.7734375,\n",
       "        0.7890625,  0.8046875,  0.8203125,  0.8359375,  0.8515625,\n",
       "        0.8671875,  0.8828125,  0.8984375,  0.9140625,  0.9296875,\n",
       "        0.9453125,  0.9609375,  0.9765625,  0.9921875])"
      ]
     },
     "execution_count": 16,
     "metadata": {},
     "output_type": "execute_result"
    }
   ],
   "source": [
    "t_bounds"
   ]
  },
  {
   "cell_type": "code",
   "execution_count": 19,
   "metadata": {},
   "outputs": [
    {
     "data": {
      "text/plain": [
       "0.004763719512195133"
      ]
     },
     "execution_count": 19,
     "metadata": {},
     "output_type": "execute_result"
    }
   ],
   "source": [
    "-0.1171875 +0.12195121951219513"
   ]
  },
  {
   "cell_type": "code",
   "execution_count": 20,
   "metadata": {},
   "outputs": [
    {
     "data": {
      "text/plain": [
       "-0.12195121951219513"
      ]
     },
     "execution_count": 20,
     "metadata": {},
     "output_type": "execute_result"
    }
   ],
   "source": [
    "-0.12195121951219513"
   ]
  },
  {
   "cell_type": "code",
   "execution_count": 21,
   "metadata": {},
   "outputs": [
    {
     "data": {
      "text/plain": [
       "-0.12195121951219513"
      ]
     },
     "execution_count": 21,
     "metadata": {},
     "output_type": "execute_result"
    }
   ],
   "source": [
    "-0.1171875 - 0.004763719512195133"
   ]
  },
  {
   "cell_type": "code",
   "execution_count": 24,
   "metadata": {},
   "outputs": [
    {
     "data": {
      "text/plain": [
       "0.15243902439024426"
      ]
     },
     "execution_count": 24,
     "metadata": {},
     "output_type": "execute_result"
    }
   ],
   "source": [
    "0.004763719512195133/Ts/2"
   ]
  },
  {
   "cell_type": "code",
   "execution_count": null,
   "metadata": {},
   "outputs": [],
   "source": []
  }
 ],
 "metadata": {
  "kernelspec": {
   "display_name": "Python 3",
   "language": "python",
   "name": "python3"
  },
  "language_info": {
   "codemirror_mode": {
    "name": "ipython",
    "version": 3
   },
   "file_extension": ".py",
   "mimetype": "text/x-python",
   "name": "python",
   "nbconvert_exporter": "python",
   "pygments_lexer": "ipython3",
   "version": "3.8.5"
  }
 },
 "nbformat": 4,
 "nbformat_minor": 4
}
