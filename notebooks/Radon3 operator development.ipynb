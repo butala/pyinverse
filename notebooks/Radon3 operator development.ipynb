{
 "cells": [
  {
   "cell_type": "code",
   "execution_count": 1,
   "id": "af862acd-122b-442e-b703-a7d68ab46b58",
   "metadata": {
    "tags": []
   },
   "outputs": [],
   "source": [
    "from itertools import product\n",
    "\n",
    "import numpy as np\n",
    "\n",
    "from pyinverse.grid import RegularGrid\n",
    "from pyinverse.axes import RegularAxes3\n",
    "from pyinverse.radon3 import regular_axes2polytope, grid_uv2half_planes, beam2actor\n",
    "from pyinverse.volume import volume_cal\n",
    "\n",
    "from pyviz3d.viz import Renderer"
   ]
  },
  {
   "cell_type": "code",
   "execution_count": 2,
   "id": "ca09ef60-4f5b-4293-926d-579c72168b04",
   "metadata": {
    "tags": []
   },
   "outputs": [],
   "source": [
    "#Nx = Ny = Nz = 9\n",
    "Nx = 9 * 2\n",
    "Ny = 10 * 2\n",
    "Nz = 11 * 2\n",
    "axes3 = RegularAxes3.linspace((-1, 1, Nx), (-1, 1, Ny), (-1, 1, Nz))"
   ]
  },
  {
   "cell_type": "code",
   "execution_count": 3,
   "id": "447bc815-0665-4311-8a80-16bb0fd7c19f",
   "metadata": {
    "tags": []
   },
   "outputs": [],
   "source": [
    "Nu = Nv = 11\n",
    "\n",
    "mn = (4, 5)\n",
    "\n",
    "#phi_deg = 15\n",
    "#theta_deg = 25\n",
    "phi_deg = 45\n",
    "theta_deg = 25\n",
    "\n",
    "grid_uv = RegularGrid.linspace((-1, 1, Nu), (-1, 1, Nv))"
   ]
  },
  {
   "cell_type": "code",
   "execution_count": 4,
   "id": "150779ca-e76d-471d-b48d-5ed9e8f90ed2",
   "metadata": {
    "tags": []
   },
   "outputs": [],
   "source": [
    "A_mn, b_mn = grid_uv2half_planes(theta_deg, phi_deg, grid_uv, mn, degrees=True)"
   ]
  },
  {
   "cell_type": "code",
   "execution_count": 5,
   "id": "850abd80-a039-4008-b15c-6fc373eda0b1",
   "metadata": {
    "tags": []
   },
   "outputs": [],
   "source": [
    "def radon_row(A_mn, b_mn, u_T, v_T, axes3):\n",
    "    Nz, Ny, Nx = axes3.shape\n",
    "    \n",
    "    data = []\n",
    "    indices = []\n",
    "    \n",
    "    for kji in product(range(Nx), range(Ny), range(Nz)):\n",
    "        ijk = kji[::-1]\n",
    "        A_ijk, b_ijk = regular_axes2polytope(axes3, ijk)\n",
    "\n",
    "        A_lass = np.vstack((A_ijk, A_mn))\n",
    "        b_lass = np.hstack((b_ijk, b_mn))\n",
    "        \n",
    "        vol = volume_cal(10, 3, A_lass, b_lass) / (u_T * v_T)\n",
    "        if not np.allclose(vol, 0):\n",
    "            data.append(vol)\n",
    "            indices.append(RegularAxes3.ravel_multi_index(([ijk[2]], [ijk[1]], [ijk[0]]), axes3.shape)[0])\n",
    "    \n",
    "    return data, indices"
   ]
  },
  {
   "cell_type": "code",
   "execution_count": 6,
   "id": "825bf42c-206d-4cbc-af45-ce0caddee8a7",
   "metadata": {
    "tags": []
   },
   "outputs": [],
   "source": [
    "data, indices = radon_row(A_mn, b_mn, grid_uv.axis_x.T, grid_uv.axis_y.T, axes3)"
   ]
  },
  {
   "cell_type": "code",
   "execution_count": 7,
   "id": "a0726d54-87c1-44a0-b32a-ccce2c8fe696",
   "metadata": {
    "tags": []
   },
   "outputs": [],
   "source": [
    "e_min_max = (-1.2*np.sqrt(2), 1.2*np.sqrt(2))\n",
    "beam_actor = beam2actor(grid_uv, mn, e_min_max, theta_deg, phi_deg, deg=True)"
   ]
  },
  {
   "cell_type": "code",
   "execution_count": 8,
   "id": "389b2eb7-4439-4f84-8e47-e45f7e440d0d",
   "metadata": {
    "tags": []
   },
   "outputs": [],
   "source": [
    "X = np.zeros(axes3.shape)\n",
    "X.flat[indices] = data"
   ]
  },
  {
   "cell_type": "code",
   "execution_count": 9,
   "id": "29dab066-f8d0-4950-acc7-071e479280a4",
   "metadata": {
    "tags": []
   },
   "outputs": [],
   "source": [
    "blank_cells = []\n",
    "ijk_set = set(zip(*RegularAxes3.unravel_indices(indices, axes3.shape)))\n",
    "\n",
    "for ijk in product(range(Nx), range(Ny), range(Nz)):\n",
    "    if ijk not in ijk_set:\n",
    "        blank_cells.append(ijk)"
   ]
  },
  {
   "cell_type": "code",
   "execution_count": 10,
   "id": "45c0f016-2024-483c-b822-7581d91a3674",
   "metadata": {
    "tags": []
   },
   "outputs": [],
   "source": [
    "X_actor = axes3.actor(X, blank_cells=blank_cells)"
   ]
  },
  {
   "cell_type": "code",
   "execution_count": 11,
   "id": "538da5ab-2d01-4dff-a84f-e121c3a85794",
   "metadata": {
    "tags": []
   },
   "outputs": [],
   "source": [
    "ren = Renderer()\n",
    "ren.add_actor(beam_actor)\n",
    "ren.add_actor(X_actor)\n",
    "ren.axes_on((-1, 1, -1, 1, -1, 1))\n",
    "ren.reset_camera()\n",
    "ren.start()"
   ]
  }
 ],
 "metadata": {
  "kernelspec": {
   "display_name": "Python 3 (ipykernel)",
   "language": "python",
   "name": "python3"
  },
  "language_info": {
   "codemirror_mode": {
    "name": "ipython",
    "version": 3
   },
   "file_extension": ".py",
   "mimetype": "text/x-python",
   "name": "python",
   "nbconvert_exporter": "python",
   "pygments_lexer": "ipython3",
   "version": "3.11.3"
  }
 },
 "nbformat": 4,
 "nbformat_minor": 5
}
